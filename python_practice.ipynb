{
 "cells": [
  {
   "cell_type": "code",
   "execution_count": null,
   "metadata": {},
   "outputs": [],
   "source": [
    "sleepisgood = True\n",
    "if sleepisgood:\n",
    "    print('Sleep is very important.')"
   ]
  },
  {
   "cell_type": "code",
   "execution_count": null,
   "metadata": {},
   "outputs": [],
   "source": [
    "if sleepisgood == False:\n",
    "    print('Sleep is for poo-poo-heads.')\n",
    "else:\n",
    "    print ('Sleep is very important.')"
   ]
  },
  {
   "cell_type": "code",
   "execution_count": null,
   "metadata": {},
   "outputs": [],
   "source": [
    "temp = \"5 degrees\"\n",
    "cel = 0\n",
    "try: \n",
    "    fahr = float(temp)\n",
    "    cel = (fahr - 32.0) * 5.0 / 9.0\n",
    "except:\n",
    "    print('Error: Please enter only numbers.')\n",
    "print(cel)"
   ]
  },
  {
   "cell_type": "code",
   "execution_count": null,
   "metadata": {},
   "outputs": [],
   "source": [
    "def rect_area(x, y):\n",
    "    area = x * y\n",
    "    return area\n",
    "\n",
    "rect_area(2, 5)\n",
    "rect_area(10, 30)\n",
    "rect_area(748, 293)\n",
    "rect_area(44, 42)"
   ]
  },
  {
   "cell_type": "code",
   "execution_count": null,
   "metadata": {},
   "outputs": [],
   "source": [
    "def rect_area(x, y):\n",
    "    if x > 0 and y > 0:\n",
    "        area = x * y\n",
    "        return area\n",
    "    else:\n",
    "        print('Error: Please enter a positive value.')\n",
    "        return ''\n",
    "\n",
    "x = input('Please enter the length of your rectangle.')\n",
    "y = input('Please enter the width of your rectangle.')\n",
    "\n",
    "try:\n",
    "    x = float(x)\n",
    "    y = float(y)\n",
    "    print(rect_area(x, y))\n",
    "\n",
    "except:\n",
    "    print('Error: Please enter only numbers.')"
   ]
  },
  {
   "cell_type": "code",
   "execution_count": null,
   "metadata": {},
   "outputs": [],
   "source": [
    "text = open(\"lorem_ipsum.txt\")\n",
    "\n",
    "wordcount = dict()\n",
    "for line in text:\n",
    "    words = line.split()\n",
    "    for word in words:\n",
    "        wordcount[word] = wordcount.get(word, 0) +1\n",
    "\n",
    "largest_count = None\n",
    "largest_word = None\n",
    "\n",
    "for word, number in wordcount.items():\n",
    "    if largest_count is None or number > largest_count:\n",
    "        largest_count = number\n",
    "        largest_word = word\n",
    "\n",
    "print(largest_word, largest_count)"
   ]
  },
  {
   "cell_type": "code",
   "execution_count": null,
   "metadata": {},
   "outputs": [],
   "source": [
    "#Make a list of special characters likely to show up in written text.\n",
    "nonalpha = [\".\", \",\",\"-\", \"(\", \")\", \"\\\"\", \":\"] #Non-Exhaustive list.\n",
    "#Replace all special characters from nonalpha with nothing.\n",
    "for specchar in nonalpha:\n",
    "    text = text.replace(specchar, \"\")\n",
    "#Use for text-based input, to remove special character noise! Woohoo."
   ]
  },
  {
   "cell_type": "code",
   "execution_count": null,
   "metadata": {},
   "outputs": [],
   "source": [
    "text = \"This is a test input, for this to work: It might need to try-hard.\"\n",
    "\n",
    "def remove_specchar(text_str):\n",
    "    #Make a list of special characters likely to show up in written text.\n",
    "    nonalpha = [\".\", \",\",\"-\", \"(\", \")\", \"\\\"\", \":\"] #Non-Exhaustive list.\n",
    "    #Replace all special characters from nonalpha with nothing.\n",
    "    for specchar in nonalpha:\n",
    "        text_str = text_str.replace(specchar, \"\")\n",
    "    return text_str\n",
    "    #Use for text-based input, to remove special character noise! Woohoo.\n",
    "        \n",
    "print(remove_specchar(text))\n",
    "\n"
   ]
  },
  {
   "cell_type": "code",
   "execution_count": null,
   "metadata": {},
   "outputs": [],
   "source": [
    "#Try to undestand classes and objects\n",
    "\n",
    "\n",
    "class Pylon:\n",
    "    pyloncount = 0\n",
    "    def __init__(self):\n",
    "        print(\"Pylon constructed.\")\n",
    "        Pylon.pyloncount = Pylon.pyloncount+1\n",
    "        if Pylon.pyloncount < 5:\n",
    "            print(\"You must construct additional Pylons!\")\n",
    "      \n",
    "\n",
    "\n",
    "while Pylon.pyloncount < 5:\n",
    "    Pylon()\n",
    "\n",
    "Pylon()\n",
    "Pylon()\n",
    "Pylon()"
   ]
  },
  {
   "cell_type": "code",
   "execution_count": null,
   "metadata": {},
   "outputs": [],
   "source": [
    "#Add functions to classes\n",
    "\n",
    "class Pylon:\n",
    "    pyloncount = 0\n",
    "    def __init__(self):\n",
    "        print(\"Pylon constructed.\")\n",
    "        Pylon.pyloncount = Pylon.pyloncount+1\n",
    "        if Pylon.pyloncount < 5:\n",
    "            print(\"You must construct additional Pylons!\")\n",
    "    \n",
    "    def protoss_warp(self):\n",
    "        base = {\"Templar\":4, \"Probe\":13, \"Archon\":1, \"Colossus\":2}\n",
    "        front = {\"Zealot\":2, \"Templar\":2}\n",
    "        for unit, number in base.items():\n",
    "            #print(unit, number)\n",
    "            if unit != \"Probe\":\n",
    "                base[unit] = 0\n",
    "                front.setdefault(unit, 0)\n",
    "                front[unit] += number\n",
    "        return base, front\n",
    "\n",
    "\n",
    "Pylon().protoss_warp()\n",
    "#while Pylon.pyloncount < 5:\n",
    " #   Pylon()\n",
    "\n",
    "# This is inheritance:\n",
    "# class Potato(Pylon):\n",
    "\n"
   ]
  },
  {
   "cell_type": "code",
   "execution_count": null,
   "metadata": {},
   "outputs": [],
   "source": [
    "#Unit Testing practice see \"pylon_class.py\" and \"test_pylon_class.py\"\n",
    "\n",
    "class Pylon:\n",
    "    pyloncount = 0\n",
    "    def __init__(self, front):\n",
    "        self.front = front\n",
    "        print(\"Pylon constructed.\")\n",
    "        Pylon.pyloncount = Pylon.pyloncount+1\n",
    "        if Pylon.pyloncount < 5:\n",
    "            print(\"You must construct additional Pylons!\")\n",
    "    \n",
    "    def protoss_warp(self, base):\n",
    "        for unit, number in base.items():\n",
    "            #print(unit, number)\n",
    "            if unit != \"Probe\":\n",
    "                base[unit] = 0\n",
    "                self.front.setdefault(unit, 0)\n",
    "                self.front[unit] += number\n",
    "        return base, self.front\n",
    "\n",
    "base = {\"Templar\":4, \"Probe\":13, \"Archon\":1, \"Colossus\":2}\n",
    "\n",
    "front_pylon1 = Pylon()\n",
    "front_pylon1.front = {\"Colossus\":1}\n",
    "front_pylon1.protoss_warp(base)\n",
    "\n",
    "#while Pylon.pyloncount < 5:\n",
    " #   Pylon()\n",
    "\n",
    "# This is inheritance:\n",
    "# class Potato(Pylon):"
   ]
  }
 ],
 "metadata": {
  "kernelspec": {
   "display_name": "Python 3",
   "language": "python",
   "name": "python3"
  },
  "language_info": {
   "codemirror_mode": {
    "name": "ipython",
    "version": 3
   },
   "file_extension": ".py",
   "mimetype": "text/x-python",
   "name": "python",
   "nbconvert_exporter": "python",
   "pygments_lexer": "ipython3",
   "version": "3.12.1"
  }
 },
 "nbformat": 4,
 "nbformat_minor": 2
}
